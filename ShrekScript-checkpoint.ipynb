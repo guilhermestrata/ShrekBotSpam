{
 "cells": [
  {
   "cell_type": "code",
   "execution_count": null,
   "id": "fce9357c",
   "metadata": {
    "collapsed": true
   },
   "outputs": [],
   "source": [
    "!pip install pyautogui"
   ]
  },
  {
   "cell_type": "raw",
   "id": "21873b68",
   "metadata": {},
   "source": [
    "import pyautogui as bot\n",
    "bot.sleep(0.5)\n",
    "with open('Shrek.txt','r') as shrek:\n",
    "    for message in shrek.readlines():\n",
    "        bot.write(message)\n",
    "        ##bot.press('enter')\n",
    "        bot.sleep(0.5)"
   ]
  },
  {
   "cell_type": "code",
   "execution_count": 7,
   "id": "3aa06512",
   "metadata": {
    "scrolled": false
   },
   "outputs": [
    {
     "data": {
      "text/plain": [
       "Point(x=923, y=69)"
      ]
     },
     "execution_count": 7,
     "metadata": {},
     "output_type": "execute_result"
    }
   ],
   "source": [
    "import pyautogui as bot\n",
    "bot.sleep(2)\n",
    "bot.position()"
   ]
  }
 ],
 "metadata": {
  "kernelspec": {
   "display_name": "Python 3 (ipykernel)",
   "language": "python",
   "name": "python3"
  },
  "language_info": {
   "codemirror_mode": {
    "name": "ipython",
    "version": 3
   },
   "file_extension": ".py",
   "mimetype": "text/x-python",
   "name": "python",
   "nbconvert_exporter": "python",
   "pygments_lexer": "ipython3",
   "version": "3.9.13"
  }
 },
 "nbformat": 4,
 "nbformat_minor": 5
}
